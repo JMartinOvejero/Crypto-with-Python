{
 "cells": [
  {
   "cell_type": "markdown",
   "metadata": {},
   "source": [
    "# Criptosistema RSA"
   ]
  },
  {
   "cell_type": "code",
   "execution_count": 1,
   "metadata": {},
   "outputs": [],
   "source": [
    "import math \n",
    "import random"
   ]
  },
  {
   "cell_type": "code",
   "execution_count": 2,
   "metadata": {},
   "outputs": [],
   "source": [
    "def inverso_mod(a,b): #Función auxiliar para calcular el inverso de a módulo b, basado en el Algoritmo de Euclides\n",
    "    if math.gcd(a,b)!=1: #Control de errores\n",
    "            print(\"El inverso no existe\")\n",
    "            return False\n",
    "    else: #Algoritmo de Euclides extendido\n",
    "        x=0\n",
    "        y=1\n",
    "        u=1\n",
    "        v=0\n",
    "        while a != 0:\n",
    "            cociente=b//a\n",
    "            resto=b%a\n",
    "            m=x-u*cociente\n",
    "            n=y-v*cociente\n",
    "\n",
    "            b=a\n",
    "            a=resto\n",
    "            x=u\n",
    "            y=v\n",
    "            u=m\n",
    "            v=n\n",
    "    return x\n",
    "        "
   ]
  },
  {
   "cell_type": "code",
   "execution_count": 3,
   "metadata": {},
   "outputs": [
    {
     "data": {
      "text/plain": [
       "13"
      ]
     },
     "execution_count": 3,
     "metadata": {},
     "output_type": "execute_result"
    }
   ],
   "source": [
    "inverso_mod(4,17)%17"
   ]
  },
  {
   "cell_type": "code",
   "execution_count": 4,
   "metadata": {},
   "outputs": [
    {
     "data": {
      "text/plain": [
       "1"
      ]
     },
     "execution_count": 4,
     "metadata": {},
     "output_type": "execute_result"
    }
   ],
   "source": [
    "4*13%17 #Comprobación"
   ]
  },
  {
   "cell_type": "code",
   "execution_count": 5,
   "metadata": {},
   "outputs": [],
   "source": [
    "def es_primo(p): #Función que comprueba si un numero es primo ó  no\n",
    "    for i in range(2,p):\n",
    "        if p%i==0:\n",
    "            return False \n",
    "            break\n",
    "        \n",
    "    return True"
   ]
  },
  {
   "cell_type": "code",
   "execution_count": 6,
   "metadata": {},
   "outputs": [
    {
     "name": "stdout",
     "output_type": "stream",
     "text": [
      "1\n",
      "2\n",
      "3\n",
      "5\n",
      "7\n",
      "11\n",
      "13\n",
      "17\n",
      "19\n",
      "23\n",
      "29\n",
      "31\n",
      "37\n",
      "41\n",
      "43\n",
      "47\n",
      "53\n",
      "59\n",
      "61\n",
      "67\n",
      "71\n",
      "73\n",
      "79\n",
      "83\n",
      "89\n",
      "97\n"
     ]
    }
   ],
   "source": [
    "for i in range(1,100): #Lista de los 100 primeros números primos\n",
    "    if es_primo(i)==True:\n",
    "        print(i)\n",
    "        "
   ]
  },
  {
   "cell_type": "code",
   "execution_count": 7,
   "metadata": {},
   "outputs": [],
   "source": [
    "def generacion_clave(cota):\n",
    "    primes=[i for  i in range(1,cota) if es_primo(i)==True]#Generamos una lista de números primos del 1 al 10000\n",
    "    p = random.choice(primes) #Escogemos dos de ellos, p y q\n",
    "    del primes[primes.index(p)]\n",
    "    q=random.choice(primes)\n",
    "    n=p*q \n",
    "    euler_n=(p-1)*(q-1) #Al tratarse del producto de dos números primos p y q el indicador de Euler es (p-1)(q-1)\n",
    "    e=2\n",
    "    while math.gcd(e,euler_n)!=1:\n",
    "        e=random.choice(range(2,euler_n))\n",
    "    d=inverso_mod(e,euler_n)%euler_n\n",
    "    lista=[n,e,d,euler_n] #El usuario guarda el indicador de Euler de n para descifrar los mensajes recibidos\n",
    "    print(\"La clave pública es (\",n,\",\",e,\")\")\n",
    "    print(\"La clave privada es \",d)\n",
    "    return lista"
   ]
  },
  {
   "cell_type": "code",
   "execution_count": 8,
   "metadata": {},
   "outputs": [
    {
     "name": "stdout",
     "output_type": "stream",
     "text": [
      "La clave pública es ( 415 , 57 )\n",
      "La clave privada es  305\n"
     ]
    }
   ],
   "source": [
    "clave=generacion_clave(100)"
   ]
  },
  {
   "cell_type": "code",
   "execution_count": 9,
   "metadata": {},
   "outputs": [
    {
     "name": "stdout",
     "output_type": "stream",
     "text": [
      "[415, 57, 305, 328]\n"
     ]
    }
   ],
   "source": [
    "print(clave)"
   ]
  },
  {
   "cell_type": "code",
   "execution_count": 10,
   "metadata": {},
   "outputs": [],
   "source": [
    "def exp_modular(a,b,p): #Algoritmo de exponenciación modular (resto de dividir a elevado a b entre p)\n",
    "    x=1\n",
    "    for i in range(1,b+1):\n",
    "        x=x*a %p\n",
    "    return x\n",
    "\n",
    "def cifrado_RSA(clave_publica,mensaje): #Envio del mensaje cifrado a un usuario\n",
    "    n=clave_publica[0]\n",
    "    e=clave_publica[1]\n",
    "    if mensaje not in range (1, n): #Control de Errores\n",
    "        print(\"No se puede enviar el mensaje por no entrar en las cotas permitidas\")\n",
    "    else:\n",
    "        cifrado=exp_modular(mensaje,e,n)\n",
    "    return cifrado"
   ]
  },
  {
   "cell_type": "code",
   "execution_count": 11,
   "metadata": {},
   "outputs": [
    {
     "name": "stdout",
     "output_type": "stream",
     "text": [
      "77\n"
     ]
    }
   ],
   "source": [
    "cifrado=cifrado_RSA(clave,87)\n",
    "print(cifrado)"
   ]
  },
  {
   "cell_type": "code",
   "execution_count": 12,
   "metadata": {},
   "outputs": [],
   "source": [
    "def descifrado_RSA(clave_receptor,mensaje): #Desencriptación del mensaje cifrado\n",
    "    n=clave_receptor[0]\n",
    "    d=clave_receptor[2]\n",
    "    euler_n=clave_receptor[3]\n",
    "    decodificado=exp_modular(mensaje,d,n)\n",
    "    return decodificado"
   ]
  },
  {
   "cell_type": "code",
   "execution_count": 13,
   "metadata": {},
   "outputs": [
    {
     "data": {
      "text/plain": [
       "87"
      ]
     },
     "execution_count": 13,
     "metadata": {},
     "output_type": "execute_result"
    }
   ],
   "source": [
    "descifrado_RSA(clave,cifrado)"
   ]
  }
 ],
 "metadata": {
  "kernelspec": {
   "display_name": "Python 3",
   "language": "python",
   "name": "python3"
  },
  "language_info": {
   "codemirror_mode": {
    "name": "ipython",
    "version": 3
   },
   "file_extension": ".py",
   "mimetype": "text/x-python",
   "name": "python",
   "nbconvert_exporter": "python",
   "pygments_lexer": "ipython3",
   "version": "3.7.6"
  }
 },
 "nbformat": 4,
 "nbformat_minor": 4
}
