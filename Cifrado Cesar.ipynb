{
 "cells": [
  {
   "cell_type": "markdown",
   "metadata": {},
   "source": [
    "# Cifrado César"
   ]
  },
  {
   "cell_type": "code",
   "execution_count": 1,
   "metadata": {},
   "outputs": [],
   "source": [
    "#Para permitir que el usuario introduzca el Alfabeto que él considere,\n",
    "#definiremos una función con tres parámetros: alfabeto, mensaje a codificar y clave\n",
    "def cifrado_cesar(alf,mensaje,clave):\n",
    "    n=len(alf)\n",
    "    if type(alf) is not str or type(mensaje) is not  str or type(clave) is not int:\n",
    "        print('Alguno de los datos introducidos no es del tipo indicado') #Control de errores\n",
    "    else:\n",
    "        alf_list=list(alf) #creamos una lista donde cada elemento de la lista es un caracter del alfabeto\n",
    "        mensaje_encriptado=\"\"\n",
    "        for i in range(len(mensaje)): #recorremos todos los caracteres del mensaje que queremos codificar\n",
    "            try:\n",
    "                indice=alf_list.index(mensaje[i]) #posición del i-ésimo caracter del mensaje\n",
    "                traslacion=(indice+clave)%n #calculamos la posición de la letra encriptada\n",
    "                mensaje_encriptado=mensaje_encriptado+alf_list[traslacion]\n",
    "            except: #Control de errores\n",
    "                print(\"El caracter \",mensaje[i], \"no se encuentra en su alfabeto. No es posible encriptar el mensaje\")\n",
    "                break\n",
    "    return(mensaje_encriptado)"
   ]
  },
  {
   "cell_type": "code",
   "execution_count": 2,
   "metadata": {},
   "outputs": [
    {
     "name": "stdout",
     "output_type": "stream",
     "text": [
      "El caracter  E no se encuentra en su alfabeto. No es posible encriptar el mensaje\n",
      "\n",
      "El mensaje cifrado es:\n",
      " añ:kxoruí:r:ñd:lurpcdí:pr:hv:xp:duodb:hv:xp:hvfxgr\n"
     ]
    }
   ],
   "source": [
    "alf=\"abcdefghijklmnñopqrstuvwxyz ,\"\n",
    "mensaje=\"El humor, o la ironía, no es un arma: es un escudo\"\n",
    "clave=3\n",
    "cryp=cifrado_cesar(alf,mensaje,clave)\n",
    "print(cryp)\n",
    "\n",
    "alfabeto=\"abcdefghijklmnñopqrstuvwxyz ,E:í\"\n",
    "print(\"El mensaje cifrado es:\\n\",cifrado_cesar(alfabeto,mensaje,clave))"
   ]
  },
  {
   "cell_type": "code",
   "execution_count": 3,
   "metadata": {},
   "outputs": [],
   "source": [
    "#La desencriptación de un mensaje recibido cuando se disponga de la clave y el alfabeto se realiza de idéntica forma.\n",
    "def descifrado_cesar(alf,mensaje,clave):\n",
    "    n=len(alf)\n",
    "    if type(alf) is not str or type(mensaje) is not  str or type(clave) is not int:\n",
    "        print('Alguno de los datos introducidos no es del tipo indicado') #Control de errores\n",
    "    else:\n",
    "        alf_list=list(alf) \n",
    "        mensaje_desencriptado=\"\"\n",
    "        for i in range(len(mensaje)): \n",
    "            try:\n",
    "                indice=alf_list.index(mensaje[i]) #posición del i-ésimo caracter del mensaje\n",
    "                traslacion=(indice-clave)%n #calculamos la posición de la letra desencriptada, restamos la clave a indice.\n",
    "                mensaje_desencriptado=mensaje_desencriptado+alf_list[traslacion]\n",
    "            except: #Control de errores\n",
    "                print(\"El caracter \",mensaje[i], \"no se encuentra en su alfabeto. No es posible encriptar el mensaje\")\n",
    "                break\n",
    "    return(mensaje_desencriptado)"
   ]
  },
  {
   "cell_type": "code",
   "execution_count": 4,
   "metadata": {},
   "outputs": [
    {
     "name": "stdout",
     "output_type": "stream",
     "text": [
      "El humor, o la ironía, no es un arma: es un escudo\n"
     ]
    }
   ],
   "source": [
    "print(descifrado_cesar(alfabeto,cifrado_cesar(alfabeto,mensaje,clave),clave))"
   ]
  },
  {
   "cell_type": "code",
   "execution_count": 5,
   "metadata": {},
   "outputs": [
    {
     "name": "stdout",
     "output_type": "stream",
     "text": [
      "añ:kxoruí:r:ñd:lurpcdí:pr:hv:xp:duodb:hv:xp:hvfxgr\n",
      "ínEjwñqt:EqEncEktqobc:EoqEguEwoEctñcaEguEwoEguewfq\n",
      ":m,ivnpsE,p,mb,jspñabE,ñp,ft,vñ,bsnbí,ft,vñ,ftdvep\n",
      "El humor, o la ironía, no es un arma: es un escudo\n",
      ",kzgtlñq zñzkízhqñm:í zmñzdrztmzíqlíEzdrztmzdrbtcñ\n",
      " jyfsknpzynyj:ygpnlE:zylnycqysly:pk:,ycqyslycqasbn\n",
      "zixerjmoyxmxiExfomk,EyxkmxbpxrkxEojE xbpxrkxbpíram\n",
      "yhwdqilñxwlwh,weñlj ,xwjlwaowqjw,ñi,zwaowqjwao:qíl\n",
      "xgvcphknwvkvg vdnkiz wvikvíñvpiv nh yvíñvpivíñEp:k\n",
      "wfubogjmvujufzucmjhyzvuhju:nuohuzmgzxu:nuohu:n,oEj\n",
      "vetañfilutiteytbligxyutgitEmtñgtylfywtEmtñgtEm ñ,i\n",
      "udsínehktshsdxsakhfwxtsfhs,lsnfsxkexvs,lsnfs,lzn h\n",
      "tcr:mdgjsrgrcwríjgevwsregr krmerwjdwur krmer kymzg\n",
      "sbqElcfirqfqbvq:ifduvrqdfqzjqldqvicvtqzjqldqzjxlyf\n",
      "rap,kbehqpepaupEhectuqpcepyipkcpuhbuspyipkcpyiwkxe\n",
      "qío jadgpodoíto,gdbstpobdoxhojbotgatroxhojboxhvjwd\n",
      "p:ñziícfoñcñ:sñ fcarsoñacñwgñiañsfísqñwgñiañwguivc\n",
      "oEnyh:beñnbnErnzebíqrñníbnvfnhínre:rpnvfnhínvfthub\n",
      "ñ,mxgEadnmam,qmyda:pqnm:amuemg:mqdEqomuemg:muesgta\n",
      "n lwf,ícmlíl plxcíEopmlEíltdlfElpc,pñltdlfEltdrfsí\n",
      "mzkve :blk:kzokwb:,ñolk,:kscke,kob onkscke,kscqer:\n",
      "lyjudzEakjEjyñjvaE nñkj Ejrbjd jñazñmjrbjd jrbpdqE\n",
      "kxitcy,íji,ixniuí,zmnjiz,iqaicziníynliqaicziqaocp,\n",
      "jwhsbx :ih hwmht: ylmihy hpíhbyhm:xmkhpíhbyhpíñbo \n",
      "ivgrawzEhgzgvlgsEzxklhgxzgo:gaxglEwljgo:gaxgo:nañz\n",
      "hufqívy,gfyfukfr,ywjkgfwyfñEfíwfk,vkifñEfíwfñEmíny\n",
      "gtep:ux fexetjeq xvijfevxen,e:vej ujhen,e:ven,l:mx\n",
      "fsdoEtwzedwdsidpzwuhieduwdm dEudiztigdm dEudm kElw\n",
      "ercñ,svydcvcrhcoyvtghdctvclzc,tchyshfclzc,tclzj,kv\n",
      "dqbn ruxcbubqgbñxusfgcbsubkyb sbgxrgebkyb sbkyi ju\n",
      "cpamzqtwbatapfanwtrefbartajxazrafwqfdajxazrajxhzit\n",
      "boílypsvaísíoeímvsqdeaíqsíiwíyqíevpecíiwíyqíiwgyhs\n"
     ]
    }
   ],
   "source": [
    "#Ataque por fuerza bruta\n",
    "for i in range(len(alfabeto)):\n",
    "    print(descifrado_cesar(alfabeto,cifrado_cesar(alfabeto,mensaje,clave),i))"
   ]
  },
  {
   "cell_type": "code",
   "execution_count": null,
   "metadata": {},
   "outputs": [],
   "source": []
  }
 ],
 "metadata": {
  "kernelspec": {
   "display_name": "Python 3",
   "language": "python",
   "name": "python3"
  },
  "language_info": {
   "codemirror_mode": {
    "name": "ipython",
    "version": 3
   },
   "file_extension": ".py",
   "mimetype": "text/x-python",
   "name": "python",
   "nbconvert_exporter": "python",
   "pygments_lexer": "ipython3",
   "version": "3.7.6"
  }
 },
 "nbformat": 4,
 "nbformat_minor": 4
}
